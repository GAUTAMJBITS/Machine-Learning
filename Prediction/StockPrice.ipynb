{
 "cells": [
  {
   "cell_type": "code",
   "execution_count": null,
   "id": "00041e83",
   "metadata": {},
   "outputs": [],
   "source": [
    "//google stock price predictions\n",
    "import pandas as pd\n",
    "import numpy as np\n",
    "import matplotlib.pyplot as plt\n",
    "import pandas_datareader as web\n",
    "import warnings\n",
    "!pip install fbprophet\n",
    "import fbprophet\n"
   ]
  },
  {
   "cell_type": "code",
   "execution_count": null,
   "id": "fed2312a",
   "metadata": {},
   "outputs": [],
   "source": [
    "from google.colab import files\n",
    "uploaded = files.upload()\n",
    "data = pd.read_csv(\"GOOG.csv\")\n",
    "data.head()\n",
    "plt.style.use(\"fivethirtyeight\")\n",
    "plt.figure(figsize=(16,8))\n",
    "plt.title(\"Google Closing Stock Price\")\n",
    "plt.plot(data[\"Close\"])\n",
    "plt.xlabel(\"Date\", fontsize=18)\n",
    "plt.ylabel(\"Close Price USD ($)\", fontsize=18)\n",
    "plt.show()\n",
    "data = data[[\"Date\",\"Close\"]] \n",
    "data = data.rename(columns = {\"Date\":\"ds\",\"Close\":\"y\"})\n",
    "data.head()from fbprophet import Prophet\n",
    "m = Prophet(daily_seasonality=True)\n",
    "m.fit(data)\n",
    "future = m.make_future_dataframe(periods=365)\n",
    "predictions=m.predict(future)\n",
    "m.plot(predictions)\n",
    "plt.title(\"Prediction of GOOGLE Stock Price\")\n",
    "plt.xlabel(\"Date\")\n",
    "plt.ylabel(\"Closing Stock Price\")\n",
    "plt.show()\n",
    "m.plot_components(predictions)\n",
    "plt.show()"
   ]
  }
 ],
 "metadata": {
  "kernelspec": {
   "display_name": "Python 3 (ipykernel)",
   "language": "python",
   "name": "python3"
  },
  "language_info": {
   "codemirror_mode": {
    "name": "ipython",
    "version": 3
   },
   "file_extension": ".py",
   "mimetype": "text/x-python",
   "name": "python",
   "nbconvert_exporter": "python",
   "pygments_lexer": "ipython3",
   "version": "3.9.13"
  }
 },
 "nbformat": 4,
 "nbformat_minor": 5
}
